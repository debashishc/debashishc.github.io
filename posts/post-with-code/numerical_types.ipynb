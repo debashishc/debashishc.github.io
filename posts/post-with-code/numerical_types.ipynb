{
  "cells": [
    {
      "cell_type": "raw",
      "id": "caf27a2d",
      "metadata": {},
      "source": [
        "---\n",
        "title: Numerical Types\n",
        "format:\n",
        "  html: null\n",
        "  code-fold: true\n",
        "---"
      ]
    },
    {
      "cell_type": "markdown",
      "id": "97cc30e2",
      "metadata": {},
      "source": [
        "# Table Of Contents"
      ]
    },
    {
      "cell_type": "markdown",
      "id": "29b11cd2",
      "metadata": {},
      "source": [
        "## Integer\n",
        "\n"
      ]
    },
    {
      "cell_type": "markdown",
      "id": "16a4b8ff",
      "metadata": {},
      "source": [
        "## Floating Point Number\n",
        "\n"
      ]
    }
  ],
  "metadata": {
    "kernelspec": {
      "display_name": "Python 3 (ipykernel)",
      "language": "python",
      "name": "python3"
    }
  },
  "nbformat": 4,
  "nbformat_minor": 5
}
